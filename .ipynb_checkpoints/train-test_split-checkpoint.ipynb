{
 "cells": [
  {
   "cell_type": "code",
   "execution_count": 1,
   "id": "7ab09868-3636-4a81-a22d-b188acd4b8f9",
   "metadata": {},
   "outputs": [],
   "source": [
    "import os\n",
    "from ase.io import read,write"
   ]
  },
  {
   "cell_type": "code",
   "execution_count": 19,
   "id": "d02e1a64-fe09-46b1-90b6-b96b54ffd1cd",
   "metadata": {},
   "outputs": [],
   "source": [
    "path = '../inference/experiments/zirconium-dioxide/dataset_zro2'\n",
    "files = os.listdir(path)\n",
    "if '.ipynb_checkpoints' in files: files.remove('.ipynb_checkpoints')"
   ]
  },
  {
   "cell_type": "code",
   "execution_count": 20,
   "id": "e954f012-af42-41d5-8a32-07b0db3e7b22",
   "metadata": {},
   "outputs": [],
   "source": [
    "structures_dict = {}\n",
    "for file in files:\n",
    "    geometry = file[0]\n",
    "    structures = read(f'{path}/{file}',index=':')\n",
    "\n",
    "    if geometry not in structures_dict.keys(): structures_dict[geometry] = structures\n",
    "    else: structures_dict[geometry] += structures\n",
    "    \n",
    "    # structure for structure in structures"
   ]
  },
  {
   "cell_type": "code",
   "execution_count": 27,
   "id": "c7eebe12-0d50-48a1-97d1-fcc7433a4d7f",
   "metadata": {},
   "outputs": [],
   "source": [
    "train,test = {},{}\n",
    "train_fraction = 0.8\n",
    "\n",
    "for key,values in structures_dict.items():\n",
    "    geometries_length = len(values)\n",
    "    length_cut = int(geometries_length * train_fraction)\n",
    "    train[key] = values[:length_cut]\n",
    "    test[key] = values[length_cut:]"
   ]
  },
  {
   "cell_type": "code",
   "execution_count": 36,
   "id": "defb6371-88db-4fff-9373-1db4f871dbc2",
   "metadata": {},
   "outputs": [
    {
     "name": "stdout",
     "output_type": "stream",
     "text": [
      "geometries ['p', 'b', 's', 'n', 'w']\n",
      "total [838, 94, 3073, 4000, 6429]\n",
      "train [670, 75, 2458, 3200, 5143]\n",
      "test [168, 19, 615, 800, 1286]\n"
     ]
    }
   ],
   "source": [
    "print('geometries',[key for key in structures_dict.keys()])\n",
    "print('total',[len(structures_dict[t]) for t in structures_dict])\n",
    "print('train',[len(train[t]) for t in train])\n",
    "print('test',[len(test[t]) for t in test])"
   ]
  },
  {
   "cell_type": "code",
   "execution_count": 55,
   "id": "48233498-355d-44c2-bcbd-e0555c5fc94a",
   "metadata": {},
   "outputs": [
    {
     "name": "stdout",
     "output_type": "stream",
     "text": [
      "train size -  11546\n",
      "test size -  2888\n"
     ]
    }
   ],
   "source": [
    "train_structures = [t for l in train.values() for t in l]\n",
    "test_structures = [t for l in test.values() for t in l]\n",
    "\n",
    "print('train size - ',len(train_structures))\n",
    "print('test size - ',len(test_structures))"
   ]
  },
  {
   "cell_type": "code",
   "execution_count": 58,
   "id": "994621cd-2809-40d7-b6ff-cdfb931de8cb",
   "metadata": {},
   "outputs": [],
   "source": [
    "write('data/train.xyz',train_structures)\n",
    "write('data/test.xyz',test_structures)"
   ]
  }
 ],
 "metadata": {
  "kernelspec": {
   "display_name": "venv",
   "language": "python",
   "name": "venv"
  },
  "language_info": {
   "codemirror_mode": {
    "name": "ipython",
    "version": 3
   },
   "file_extension": ".py",
   "mimetype": "text/x-python",
   "name": "python",
   "nbconvert_exporter": "python",
   "pygments_lexer": "ipython3",
   "version": "3.9.21"
  }
 },
 "nbformat": 4,
 "nbformat_minor": 5
}
